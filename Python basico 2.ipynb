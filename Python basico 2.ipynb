{
 "cells": [
  {
   "cell_type": "markdown",
   "metadata": {
    "id": "E0vqbgi9ay0H"
   },
   "source": [
    "\n",
    "# Déjame escuchar la música"
   ]
  },
  {
   "cell_type": "markdown",
   "metadata": {
    "id": "fhq_eyov_Zcs"
   },
   "source": [
    "# Contenido <a id='back'></a>\n",
    "\n",
    "* [Introducción](#intro)\n",
    "* [Etapa 1. Descripción de los datos](#data_review)\n",
    "    * [Conclusiones](#data_review_conclusions)\n",
    "* [Etapa 2. Preprocesamiento de datos](#data_preprocessing)\n",
    "    * [2.1 Estilo del encabezado](#header_style)\n",
    "    * [2.2 Valores ausentes](#missing_values)\n",
    "    * [2.3 Duplicados](#duplicates)\n",
    "    * [2.4 Conclusiones](#data_preprocessing_conclusions)\n",
    "* [Etapa 3. Prueba de hipótesis](#hypothesis)\n",
    "    * [3.1 Hipótesis 1: actividad de los usuarios y las usuarias en las dos ciudades](#activity)\n",
    "* [Conclusiones](#end)"
   ]
  },
  {
   "cell_type": "markdown",
   "metadata": {
    "id": "VUC88oWjTJw2"
   },
   "source": [
    "## Introducción <a id='intro'></a>\n",
    "Como analista de datos, tu trabajo consiste en analizar datos para extraer información valiosa y tomar decisiones basadas en ellos. Esto implica diferentes etapas, como la descripción general de los datos, el preprocesamiento y la prueba de hipótesis.\n",
    "\n",
    "Siempre que investigamos, necesitamos formular hipótesis que después podamos probar. A veces aceptamos estas hipótesis; otras veces, las rechazamos. Para tomar las decisiones correctas, una empresa debe ser capaz de entender si está haciendo las suposiciones correctas.\n",
    "\n",
    "En este proyecto, compararás las preferencias musicales de las ciudades de Springfield y Shelbyville. Estudiarás datos reales de transmisión de música online para probar la hipótesis a continuación y comparar el comportamiento de los usuarios y las usuarias de estas dos ciudades.\n",
    "\n",
    "### Objetivo:\n",
    "Prueba la hipótesis:\n",
    "1. La actividad de los usuarios y las usuarias difiere según el día de la semana y dependiendo de la ciudad.\n",
    "\n",
    "\n",
    "### Etapas\n",
    "Los datos del comportamiento del usuario se almacenan en el archivo `/datasets/music_project_en.csv`. No hay ninguna información sobre la calidad de los datos, así que necesitarás examinarlos antes de probar la hipótesis.\n",
    "\n",
    "Primero, evaluarás la calidad de los datos y verás si los problemas son significativos. Entonces, durante el preprocesamiento de datos, tomarás en cuenta los problemas más críticos.\n",
    "\n",
    "Tu proyecto consistirá en tres etapas:\n",
    " 1. Descripción de los datos.\n",
    " 2. Preprocesamiento de datos.\n",
    " 3. Prueba de hipótesis.\n",
    "\n",
    "\n",
    "\n",
    "\n",
    "\n",
    "\n"
   ]
  },
  {
   "cell_type": "markdown",
   "metadata": {
    "id": "hDt6pg-Rw-1U"
   },
   "source": [
    "[Volver a Contenidos](#back)"
   ]
  },
  {
   "cell_type": "markdown",
   "metadata": {
    "id": "Ml1hmfXC_Zcs"
   },
   "source": [
    "## Etapa 1. Descripción de los datos <a id='data_review'></a>\n",
    "\n",
    "Abre los datos y examínalos."
   ]
  },
  {
   "cell_type": "markdown",
   "metadata": {
    "id": "57eAOGIz_Zcs"
   },
   "source": [
    "Necesitarás `pandas`, así que impórtalo."
   ]
  },
  {
   "cell_type": "code",
   "execution_count": 1,
   "metadata": {
    "id": "AXN7PHPN_Zcs"
   },
   "outputs": [],
   "source": [
    "# Importar pandas\n",
    "import pandas as pd\n"
   ]
  },
  {
   "cell_type": "markdown",
   "metadata": {
    "id": "SG23P8tt_Zcs"
   },
   "source": [
    "Lee el archivo `music_project_en.csv` de la carpeta `/datasets/` y guárdalo en la variable `df`:"
   ]
  },
  {
   "cell_type": "code",
   "execution_count": 2,
   "metadata": {
    "id": "fFVu7vqh_Zct"
   },
   "outputs": [],
   "source": [
    "# Leer el archivo y almacenarlo en df\n",
    "df = pd.read_csv('/datasets/music_project_en.csv')"
   ]
  },
  {
   "cell_type": "markdown",
   "metadata": {
    "id": "rDoOMd3uTqnZ"
   },
   "source": [
    "Muestra las 10 primeras filas de la tabla:"
   ]
  },
  {
   "cell_type": "code",
   "execution_count": 3,
   "metadata": {
    "id": "oWTVX3gW_Zct",
    "scrolled": false
   },
   "outputs": [
    {
     "name": "stdout",
     "output_type": "stream",
     "text": [
      "     userID                        Track            artist   genre  \\\n",
      "0  FFB692EC            Kamigata To Boots  The Mass Missile    rock   \n",
      "1  55204538  Delayed Because of Accident  Andreas Rönnberg    rock   \n",
      "2    20EC38            Funiculì funiculà       Mario Lanza     pop   \n",
      "3  A3DD03C9        Dragons in the Sunset        Fire + Ice    folk   \n",
      "4  E2DC1FAE                  Soul People        Space Echo   dance   \n",
      "5  842029A1                       Chains          Obladaet  rusrap   \n",
      "6  4CB90AA5                         True      Roman Messer   dance   \n",
      "7  F03E1C1F             Feeling This Way   Polina Griffith   dance   \n",
      "8  8FA1D3BE                     L’estate       Julia Dalia  ruspop   \n",
      "9  E772D5C0                    Pessimist               NaN   dance   \n",
      "\n",
      "        City        time        Day  \n",
      "0  Shelbyville  20:28:33  Wednesday  \n",
      "1  Springfield  14:07:09     Friday  \n",
      "2  Shelbyville  20:58:07  Wednesday  \n",
      "3  Shelbyville  08:37:09     Monday  \n",
      "4  Springfield  08:34:34     Monday  \n",
      "5  Shelbyville  13:09:41     Friday  \n",
      "6  Springfield  13:00:07  Wednesday  \n",
      "7  Springfield  20:47:49  Wednesday  \n",
      "8  Springfield  09:17:40     Friday  \n",
      "9  Shelbyville  21:20:49  Wednesday  \n"
     ]
    }
   ],
   "source": [
    "# Obtener las 10 primeras filas de la tabla df\n",
    "print(df.head(10))"
   ]
  },
  {
   "cell_type": "markdown",
   "metadata": {
    "id": "EO73Kwic_Zct"
   },
   "source": [
    "Obtén la información general sobre la tabla con un comando. Conoces el método que muestra la información general que necesitamos."
   ]
  },
  {
   "cell_type": "code",
   "execution_count": 72,
   "metadata": {
    "id": "DSf2kIb-_Zct"
   },
   "outputs": [
    {
     "name": "stdout",
     "output_type": "stream",
     "text": [
      "<class 'pandas.core.frame.DataFrame'>\n",
      "RangeIndex: 61253 entries, 0 to 61252\n",
      "Data columns (total 7 columns):\n",
      " #   Column   Non-Null Count  Dtype \n",
      "---  ------   --------------  ----- \n",
      " 0   user_id  61253 non-null  object\n",
      " 1   track    61253 non-null  object\n",
      " 2   artist   61253 non-null  object\n",
      " 3   genre    61253 non-null  object\n",
      " 4   city     61253 non-null  object\n",
      " 5   time     61253 non-null  object\n",
      " 6   day      61253 non-null  object\n",
      "dtypes: object(7)\n",
      "memory usage: 3.3+ MB\n",
      "None\n",
      "(61253, 7)\n"
     ]
    }
   ],
   "source": [
    "# Obtener la información general sobre nuestros datos\n",
    "df.info()\n",
    "df.shape"
   ]
  },
  {
   "cell_type": "markdown",
   "metadata": {
    "id": "TaQ2Iwbr_Zct"
   },
   "source": [
    "Estas son nuestras observaciones sobre la tabla. Contiene siete columnas. Almacenan los mismos tipos de datos: `object`.\n",
    "\n",
    "Según la documentación:\n",
    "- `' userID'`: identificador del usuario o la usuaria;\n",
    "- `'Track'`: título de la canción;\n",
    "- `'artist'`: nombre del artista;\n",
    "- `'genre'`: género de la pista;\n",
    "- `'City'`: ciudad del usuario o la usuaria;\n",
    "- `'time'`: la hora exacta en la que se reprodujo la canción;\n",
    "- `'Day'`: día de la semana.\n",
    "\n",
    "Podemos ver tres problemas con el estilo en los encabezados de la tabla:\n",
    "1. Algunos encabezados están en mayúsculas, otros en minúsculas.\n",
    "2. Hay espacios en algunos encabezados.\n",
    "3. No tiene un formato defenido ya que el encabezado 'userID' no esta en el formato CamelCase al tener ID en mayúsculas y es preferible un formato con snake_case de ser el caso.\n",
    "\n",
    "\n"
   ]
  },
  {
   "cell_type": "markdown",
   "metadata": {
    "id": "MCB6-dXG_Zct"
   },
   "source": [
    "### Escribe observaciones de tu parte. Estas son algunas de las preguntas que pueden ser útiles: <a id='data_review_conclusions'></a>\n",
    "\n",
    "`1.   ¿Qué tipo de datos tenemos a nuestra disposición en las filas? ¿Y cómo podemos entender lo que almacenan las columnas?`\n",
    "\n",
    "`2.   ¿Hay suficientes datos para proporcionar respuestas a nuestra hipótesis o necesitamos más información?`\n",
    "\n",
    "`3.   ¿Notaste algún problema en los datos, como valores ausentes, duplicados o tipos de datos incorrectos?`\n",
    "\n"
   ]
  },
  {
   "cell_type": "markdown",
   "metadata": {},
   "source": [
    "Observaciones:\n",
    "1)Se cuenta con 7 columnas, estas son en relación a la musica escuchada en 2 ciudades.\n",
    "\n",
    "2)De las 7 columnas, 6 son strings y 1 es el tiempo o datetime.\n",
    "\n",
    "3)Hay un total de 65079 filas, pero no todas las columnas tienen esta cantidad.\n",
    "\n",
    "4)Existen valores nulos, NaN.\n",
    "\n",
    "5)En la columna userID no todas las obserciones tienen el mismo largo de caracteres.\n",
    "\n",
    "6)La cantidad de observaciones sirve para realizar un análisis con respecto a la hipótesis.\n",
    "\n",
    "7)El dataframe es de tipo object y cada columna que tiene igual.\n"
   ]
  },
  {
   "cell_type": "markdown",
   "metadata": {
    "id": "3eL__vcwViOi"
   },
   "source": [
    "[Volver a Contenidos](#back)"
   ]
  },
  {
   "cell_type": "markdown",
   "metadata": {
    "id": "SjYF6Ub9_Zct"
   },
   "source": [
    "## Etapa 2. Preprocesamiento de datos <a id='data_preprocessing'></a>\n",
    "\n",
    "El objetivo aquí es preparar los datos para que sean analizados.\n",
    "El primer paso es resolver cualquier problema con los encabezados. Luego podemos avanzar a los valores ausentes y duplicados. Empecemos.\n",
    "\n",
    "Corrige el formato en los encabezados de la tabla.\n"
   ]
  },
  {
   "cell_type": "markdown",
   "metadata": {
    "id": "dIaKXr29_Zct"
   },
   "source": [
    "# Estilo del encabezado <a id='header_style'></a>\n",
    "Muestra los encabezados de la tabla (los nombres de las columnas):"
   ]
  },
  {
   "cell_type": "code",
   "execution_count": 5,
   "metadata": {
    "id": "oKOTdF_Q_Zct"
   },
   "outputs": [
    {
     "name": "stdout",
     "output_type": "stream",
     "text": [
      "Index(['  userID', 'Track', 'artist', 'genre', '  City  ', 'time', 'Day'], dtype='object')\n"
     ]
    }
   ],
   "source": [
    "# Muestra los nombres de las columnas\n",
    "print(df.columns)"
   ]
  },
  {
   "cell_type": "markdown",
   "metadata": {
    "id": "zj5534cv_Zct"
   },
   "source": [
    "Cambia los encabezados de la tabla de acuerdo con las reglas del buen estilo:\n",
    "* Todos los caracteres deben ser minúsculas.\n",
    "* Elimina los espacios.\n",
    "* Si el nombre tiene varias palabras, utiliza snake_case."
   ]
  },
  {
   "cell_type": "markdown",
   "metadata": {
    "id": "Xu0zkfe5zNJe"
   },
   "source": [
    "Anteriormente, aprendiste acerca de la forma automática de cambiar el nombre de las columnas. Vamos a aplicarla ahora. Utiliza el bucle for para iterar sobre los nombres de las columnas y poner todos los caracteres en minúsculas. Cuando hayas terminado, vuelve a mostrar los encabezados de la tabla:"
   ]
  },
  {
   "cell_type": "code",
   "execution_count": 6,
   "metadata": {
    "id": "6I_RwwMhzM4e"
   },
   "outputs": [
    {
     "name": "stdout",
     "output_type": "stream",
     "text": [
      "['  userid', 'track', 'artist', 'genre', '  city  ', 'time', 'day']\n"
     ]
    }
   ],
   "source": [
    "# Bucle en los encabezados poniendo todo en minúsculas\n",
    "new_col_name = []\n",
    "for old_col in df.columns:\n",
    "    new_col_lower = old_col.lower()\n",
    "    new_col_name.append(new_col_lower )\n",
    "print(new_col_name)\n",
    "df.columns = new_col_name"
   ]
  },
  {
   "cell_type": "markdown",
   "metadata": {
    "id": "pweIRxjSzPYW"
   },
   "source": [
    "Ahora, utilizando el mismo método, elimina los espacios al principio y al final de los nombres de las columnas e imprime los nombres de las columnas nuevamente:"
   ]
  },
  {
   "cell_type": "code",
   "execution_count": 7,
   "metadata": {
    "id": "vVQXbFyJzSYl"
   },
   "outputs": [
    {
     "name": "stdout",
     "output_type": "stream",
     "text": [
      "['userid', 'track', 'artist', 'genre', 'city', 'time', 'day']\n"
     ]
    }
   ],
   "source": [
    "# Bucle en los encabezados eliminando los espacios\n",
    "new_col_lower = []\n",
    "for old_col in df.columns:\n",
    "    no_name_space = old_col.strip()\n",
    "    new_col_lower.append(no_name_space)\n",
    "print(new_col_lower)\n",
    "df.columns = new_col_lower"
   ]
  },
  {
   "cell_type": "markdown",
   "metadata": {
    "id": "yCb8MW1JzURd"
   },
   "source": [
    "Necesitamos aplicar la regla de snake_case a la columna `userid`. Debe ser `user_id`. Cambia el nombre de esta columna y muestra los nombres de todas las columnas cuando hayas terminado."
   ]
  },
  {
   "cell_type": "code",
   "execution_count": 8,
   "metadata": {
    "id": "ISlFqs5y_Zct"
   },
   "outputs": [
    {
     "name": "stdout",
     "output_type": "stream",
     "text": [
      "Index(['user_id', 'track', 'artist', 'genre', 'city', 'time', 'day'], dtype='object')\n"
     ]
    }
   ],
   "source": [
    "# Cambiar el nombre de la columna \"userid\"\n",
    "df = df.rename(columns={'userid':'user_id'})\n",
    "print(df.columns)\n"
   ]
  },
  {
   "cell_type": "markdown",
   "metadata": {
    "id": "1dqbh00J_Zct"
   },
   "source": [
    "Comprueba el resultado. Muestra los encabezados una vez más:"
   ]
  },
  {
   "cell_type": "code",
   "execution_count": 9,
   "metadata": {
    "id": "d4NOAmTW_Zct"
   },
   "outputs": [
    {
     "name": "stdout",
     "output_type": "stream",
     "text": [
      "Index(['user_id', 'track', 'artist', 'genre', 'city', 'time', 'day'], dtype='object')\n"
     ]
    }
   ],
   "source": [
    "# Comprobar el resultado: la lista de encabezados\n",
    "print(df.columns)\n",
    "    "
   ]
  },
  {
   "cell_type": "markdown",
   "metadata": {},
   "source": [
    "<div class=\"alert alert-block alert-success\">\n",
    "<b>Comentario del revisor</b> <a class=\"tocSkip\"></a>\n",
    "\n",
    "Excelente.</div>"
   ]
  },
  {
   "cell_type": "markdown",
   "metadata": {
    "id": "xYJk6ksJVpOl"
   },
   "source": [
    "[Volver a Contenidos](#back)"
   ]
  },
  {
   "cell_type": "markdown",
   "metadata": {
    "id": "5ISfbcfY_Zct"
   },
   "source": [
    "### Valores ausentes <a id='missing_values'></a>\n",
    " Primero, encuentra el número de valores ausentes en la tabla. Debes utilizar dos métodos en una secuencia para obtener el número de valores ausentes."
   ]
  },
  {
   "cell_type": "code",
   "execution_count": 10,
   "metadata": {
    "id": "RskX29qr_Zct"
   },
   "outputs": [
    {
     "name": "stdout",
     "output_type": "stream",
     "text": [
      "user_id       0\n",
      "track      1343\n",
      "artist     7567\n",
      "genre      1198\n",
      "city          0\n",
      "time          0\n",
      "day           0\n",
      "dtype: int64\n"
     ]
    }
   ],
   "source": [
    "# Calcular el número de valores ausentes\n",
    "print(df.isna().sum())\n"
   ]
  },
  {
   "cell_type": "markdown",
   "metadata": {
    "id": "qubhgnlO_Zct"
   },
   "source": [
    "No todos los valores ausentes afectan a la investigación. Por ejemplo, los valores ausentes en `track` y `artist` no son cruciales. Simplemente puedes reemplazarlos con valores predeterminados como el string `'unknown'` (desconocido).\n",
    "\n",
    "Pero los valores ausentes en `'genre'` pueden afectar la comparación entre las preferencias musicales de Springfield y Shelbyville. En la vida real, sería útil saber las razones por las cuales hay datos ausentes e intentar recuperarlos. Pero no tenemos esa oportunidad en este proyecto. Así que tendrás que:\n",
    "* rellenar estos valores ausentes con un valor predeterminado;\n",
    "* evaluar cuánto podrían afectar los valores ausentes a tus cómputos;"
   ]
  },
  {
   "cell_type": "markdown",
   "metadata": {
    "id": "fSv2laPA_Zct"
   },
   "source": [
    "Reemplazar los valores ausentes en las columnas `'track'`, `'artist'` y `'genre'` con el string `'unknown'`. Como mostramos anteriormente en las lecciones, la mejor forma de hacerlo es crear una lista que almacene los nombres de las columnas donde se necesita el reemplazo. Luego, utiliza esta lista e itera sobre las columnas donde se necesita el reemplazo haciendo el propio reemplazo."
   ]
  },
  {
   "cell_type": "code",
   "execution_count": 11,
   "metadata": {
    "id": "KplB5qWs_Zct"
   },
   "outputs": [],
   "source": [
    "# Bucle en los encabezados reemplazando los valores ausentes con 'unknown'\n",
    "columas_remplazo = ['track', 'artist', 'genre' ]\n",
    "\n",
    "for col in columas_remplazo:\n",
    "    df[col].fillna('unknown', inplace=True)\n"
   ]
  },
  {
   "cell_type": "markdown",
   "metadata": {
    "id": "Ilsm-MZo_Zct"
   },
   "source": [
    "Ahora comprueba el resultado para asegurarte de que después del reemplazo no haya valores ausentes en el conjunto de datos. Para hacer esto, cuenta los valores ausentes nuevamente."
   ]
  },
  {
   "cell_type": "code",
   "execution_count": 12,
   "metadata": {
    "id": "Tq4nYRX4_Zct"
   },
   "outputs": [
    {
     "name": "stdout",
     "output_type": "stream",
     "text": [
      "user_id    0\n",
      "track      0\n",
      "artist     0\n",
      "genre      0\n",
      "city       0\n",
      "time       0\n",
      "day        0\n",
      "dtype: int64\n"
     ]
    }
   ],
   "source": [
    "# Contar valores ausentes\n",
    "print(df.isna().sum())"
   ]
  },
  {
   "cell_type": "markdown",
   "metadata": {
    "id": "74ZIBmq9VrsK"
   },
   "source": [
    "[Volver a Contenidos](#back)"
   ]
  },
  {
   "cell_type": "markdown",
   "metadata": {
    "id": "BWKRtBJ3_Zct"
   },
   "source": [
    "### Duplicados <a id='duplicates'></a>\n",
    "Encuentra el número de duplicados explícitos en la tabla. Una vez más, debes aplicar dos métodos en una secuencia para obtener la cantidad de duplicados explícitos."
   ]
  },
  {
   "cell_type": "code",
   "execution_count": 13,
   "metadata": {
    "id": "36eES_S0_Zct"
   },
   "outputs": [
    {
     "name": "stdout",
     "output_type": "stream",
     "text": [
      "3826\n"
     ]
    }
   ],
   "source": [
    "# Contar duplicados explícitos\n",
    "print(df.duplicated().sum())"
   ]
  },
  {
   "cell_type": "markdown",
   "metadata": {
    "id": "Ot25h6XR_Zct"
   },
   "source": [
    "Ahora, elimina todos los duplicados. Para ello, llama al método que hace exactamente esto."
   ]
  },
  {
   "cell_type": "code",
   "execution_count": 14,
   "metadata": {
    "id": "exFHq6tt_Zct"
   },
   "outputs": [],
   "source": [
    "# Eliminar duplicados explícitos\n",
    "df = df.drop_duplicates().reset_index(drop=True)"
   ]
  },
  {
   "cell_type": "markdown",
   "metadata": {
    "id": "Im2YwBEG_Zct"
   },
   "source": [
    "Comprobemos ahora si eliminamos con éxito todos los duplicados. Cuenta los duplicados explícitos una vez más para asegurarte de haberlos eliminado todos:"
   ]
  },
  {
   "cell_type": "code",
   "execution_count": 15,
   "metadata": {
    "id": "-8PuNWQ0_Zct"
   },
   "outputs": [
    {
     "name": "stdout",
     "output_type": "stream",
     "text": [
      "0\n"
     ]
    }
   ],
   "source": [
    "# Comprobar de nuevo si hay duplicados\n",
    "print(df.duplicated().sum())\n"
   ]
  },
  {
   "cell_type": "markdown",
   "metadata": {
    "id": "QlFBsxAr_Zct"
   },
   "source": [
    "Ahora queremos deshacernos de los duplicados implícitos en la columna `genre`. Por ejemplo, el nombre de un género se puede escribir de varias formas. Dichos errores también pueden afectar al resultado."
   ]
  },
  {
   "cell_type": "markdown",
   "metadata": {
    "id": "eSjWwsOh_Zct"
   },
   "source": [
    "Para hacerlo, primero mostremos una lista de nombres de género únicos, ordenados en orden alfabético. Para ello:\n",
    "* Extrae la columna `genre` del DataFrame.\n",
    "* Llama al método que devolverá todos los valores únicos en la columna extraída.\n"
   ]
  },
  {
   "cell_type": "code",
   "execution_count": 16,
   "metadata": {
    "id": "JIUcqzZN_Zct"
   },
   "outputs": [
    {
     "name": "stdout",
     "output_type": "stream",
     "text": [
      "['acid' 'acoustic' 'action' 'adult' 'africa' 'afrikaans' 'alternative'\n",
      " 'ambient' 'americana' 'animated' 'anime' 'arabesk' 'arabic' 'arena'\n",
      " 'argentinetango' 'art' 'audiobook' 'avantgarde' 'axé' 'baile' 'balkan'\n",
      " 'beats' 'bigroom' 'black' 'bluegrass' 'blues' 'bollywood' 'bossa'\n",
      " 'brazilian' 'breakbeat' 'breaks' 'broadway' 'cantautori' 'cantopop'\n",
      " 'canzone' 'caribbean' 'caucasian' 'celtic' 'chamber' 'children' 'chill'\n",
      " 'chinese' 'choral' 'christian' 'christmas' 'classical' 'classicmetal'\n",
      " 'club' 'colombian' 'comedy' 'conjazz' 'contemporary' 'country' 'cuban'\n",
      " 'dance' 'dancehall' 'dancepop' 'dark' 'death' 'deep' 'deutschrock'\n",
      " 'deutschspr' 'dirty' 'disco' 'dnb' 'documentary' 'downbeat' 'downtempo'\n",
      " 'drum' 'dub' 'dubstep' 'eastern' 'easy' 'electronic' 'electropop' 'emo'\n",
      " 'entehno' 'epicmetal' 'estrada' 'ethnic' 'eurofolk' 'european'\n",
      " 'experimental' 'extrememetal' 'fado' 'film' 'fitness' 'flamenco' 'folk'\n",
      " 'folklore' 'folkmetal' 'folkrock' 'folktronica' 'forró' 'frankreich'\n",
      " 'französisch' 'french' 'funk' 'future' 'gangsta' 'garage' 'german'\n",
      " 'ghazal' 'gitarre' 'glitch' 'gospel' 'gothic' 'grime' 'grunge' 'gypsy'\n",
      " 'handsup' \"hard'n'heavy\" 'hardcore' 'hardstyle' 'hardtechno' 'hip'\n",
      " 'hip-hop' 'hiphop' 'historisch' 'holiday' 'hop' 'horror' 'house' 'idm'\n",
      " 'independent' 'indian' 'indie' 'indipop' 'industrial' 'inspirational'\n",
      " 'instrumental' 'international' 'irish' 'jam' 'japanese' 'jazz' 'jewish'\n",
      " 'jpop' 'jungle' 'k-pop' 'karadeniz' 'karaoke' 'kayokyoku' 'korean'\n",
      " 'laiko' 'latin' 'latino' 'leftfield' 'local' 'lounge' 'loungeelectronic'\n",
      " 'lovers' 'malaysian' 'mandopop' 'marschmusik' 'meditative'\n",
      " 'mediterranean' 'melodic' 'metal' 'metalcore' 'mexican' 'middle'\n",
      " 'minimal' 'miscellaneous' 'modern' 'mood' 'mpb' 'muslim' 'native'\n",
      " 'neoklassik' 'neue' 'new' 'newage' 'newwave' 'nu' 'nujazz' 'numetal'\n",
      " 'oceania' 'old' 'opera' 'orchestral' 'other' 'piano' 'pop'\n",
      " 'popelectronic' 'popeurodance' 'post' 'posthardcore' 'postrock' 'power'\n",
      " 'progmetal' 'progressive' 'psychedelic' 'punjabi' 'punk' 'quebecois'\n",
      " 'ragga' 'ram' 'rancheras' 'rap' 'rave' 'reggae' 'reggaeton' 'regional'\n",
      " 'relax' 'religious' 'retro' 'rhythm' 'rnb' 'rnr' 'rock' 'rockabilly'\n",
      " 'romance' 'roots' 'ruspop' 'rusrap' 'rusrock' 'salsa' 'samba' 'schlager'\n",
      " 'self' 'sertanejo' 'shoegazing' 'showtunes' 'singer' 'ska' 'slow'\n",
      " 'smooth' 'soul' 'soulful' 'sound' 'soundtrack' 'southern' 'specialty'\n",
      " 'speech' 'spiritual' 'sport' 'stonerrock' 'surf' 'swing' 'synthpop'\n",
      " 'sängerportrait' 'tango' 'tanzorchester' 'taraftar' 'tech' 'techno'\n",
      " 'thrash' 'top' 'traditional' 'tradjazz' 'trance' 'tribal' 'trip'\n",
      " 'triphop' 'tropical' 'türk' 'türkçe' 'unknown' 'urban' 'uzbek' 'variété'\n",
      " 'vi' 'videogame' 'vocal' 'western' 'world' 'worldbeat' 'ïîï']\n"
     ]
    }
   ],
   "source": [
    "# Inspeccionar los nombres de géneros únicos\n",
    "genero = df.loc[: , 'genre'].sort_values()\n",
    "print(genero.unique())"
   ]
  },
  {
   "cell_type": "markdown",
   "metadata": {
    "id": "qej-Qmuo_Zct"
   },
   "source": [
    "Busca en la lista para encontrar duplicados implícitos del género `hiphop`. Estos pueden ser nombres escritos incorrectamente o nombres alternativos para el mismo género.\n",
    "\n",
    "Verás los siguientes duplicados implícitos:\n",
    "* `hip`\n",
    "* `hop`\n",
    "* `hip-hop`\n",
    "\n",
    "Para deshacerte de ellos, crea una función llamada `replace_wrong_genres()` con dos parámetros:\n",
    "* `wrong_genres=`: esta es una lista que contiene todos los valores que necesitas reemplazar.\n",
    "* `correct_genre=`: este es un string que vas a utilizar como reemplazo.\n",
    "\n",
    "Como resultado, la función debería corregir los nombres en la columna `'genre'` de la tabla `df`, es decir, remplazar cada valor de la lista `wrong_genres` por el valor en `correct_genre`.\n",
    "\n",
    "Dentro del cuerpo de la función, utiliza un bucle `'for'` para iterar sobre la lista de géneros incorrectos, extrae la columna `'genre'` y aplica el método `replace` para hacer correcciones."
   ]
  },
  {
   "cell_type": "code",
   "execution_count": 32,
   "metadata": {
    "id": "ErNDkmns_Zct"
   },
   "outputs": [],
   "source": [
    "# Función para reemplazar duplicados implícitos\n",
    "\n",
    "def replace_wrong_genres(df, column, wrong_genres, correct_genre):\n",
    "    for wrong_genre in wrong_genres:\n",
    "        df[column] = df[column].replace(wrong_genre, correct_genre)\n",
    "    return df\n"
   ]
  },
  {
   "cell_type": "markdown",
   "metadata": {
    "id": "aDoBJxbA_Zct"
   },
   "source": [
    "Ahora, llama a `replace_wrong_genres()` y pásale tales argumentos para que retire los duplicados implícitos (`hip`, `hop` y `hip-hop`) y los reemplace por `hiphop`:"
   ]
  },
  {
   "cell_type": "code",
   "execution_count": 33,
   "metadata": {
    "id": "YN5i2hpmSo09"
   },
   "outputs": [],
   "source": [
    "# Eliminar duplicados implícitos\n",
    "duplicados = ['hip', 'hop', 'hip-hop']\n",
    "nombre_correcto = 'hiphop'\n",
    "df = replace_wrong_genres(df, 'genre', duplicados, nombre_correcto)"
   ]
  },
  {
   "cell_type": "markdown",
   "metadata": {
    "id": "zQKF16_RG15m"
   },
   "source": [
    "Asegúrate de que los nombres duplicados han sido eliminados. Muestra la lista de valores únicos de la columna `'genre'` una vez más:"
   ]
  },
  {
   "cell_type": "code",
   "execution_count": 70,
   "metadata": {
    "id": "wvixALnFG15m"
   },
   "outputs": [
    {
     "name": "stdout",
     "output_type": "stream",
     "text": [
      "['acid' 'acoustic' 'action' 'adult' 'africa' 'afrikaans' 'alternative'\n",
      " 'ambient' 'americana' 'animated' 'anime' 'arabesk' 'arabic' 'arena'\n",
      " 'argentinetango' 'art' 'audiobook' 'avantgarde' 'axé' 'baile' 'balkan'\n",
      " 'beats' 'bigroom' 'black' 'bluegrass' 'blues' 'bollywood' 'bossa'\n",
      " 'brazilian' 'breakbeat' 'breaks' 'broadway' 'cantautori' 'cantopop'\n",
      " 'canzone' 'caribbean' 'caucasian' 'celtic' 'chamber' 'children' 'chill'\n",
      " 'chinese' 'choral' 'christian' 'christmas' 'classical' 'classicmetal'\n",
      " 'club' 'colombian' 'comedy' 'conjazz' 'contemporary' 'country' 'cuban'\n",
      " 'dance' 'dancehall' 'dancepop' 'dark' 'death' 'deep' 'deutschrock'\n",
      " 'deutschspr' 'dirty' 'disco' 'dnb' 'documentary' 'downbeat' 'downtempo'\n",
      " 'drum' 'dub' 'dubstep' 'eastern' 'easy' 'electronic' 'electropop' 'emo'\n",
      " 'entehno' 'epicmetal' 'estrada' 'ethnic' 'eurofolk' 'european'\n",
      " 'experimental' 'extrememetal' 'fado' 'film' 'fitness' 'flamenco' 'folk'\n",
      " 'folklore' 'folkmetal' 'folkrock' 'folktronica' 'forró' 'frankreich'\n",
      " 'französisch' 'french' 'funk' 'future' 'gangsta' 'garage' 'german'\n",
      " 'ghazal' 'gitarre' 'glitch' 'gospel' 'gothic' 'grime' 'grunge' 'gypsy'\n",
      " 'handsup' \"hard'n'heavy\" 'hardcore' 'hardstyle' 'hardtechno' 'hiphop'\n",
      " 'historisch' 'holiday' 'horror' 'house' 'idm' 'independent' 'indian'\n",
      " 'indie' 'indipop' 'industrial' 'inspirational' 'instrumental'\n",
      " 'international' 'irish' 'jam' 'japanese' 'jazz' 'jewish' 'jpop' 'jungle'\n",
      " 'k-pop' 'karadeniz' 'karaoke' 'kayokyoku' 'korean' 'laiko' 'latin'\n",
      " 'latino' 'leftfield' 'local' 'lounge' 'loungeelectronic' 'lovers'\n",
      " 'malaysian' 'mandopop' 'marschmusik' 'meditative' 'mediterranean'\n",
      " 'melodic' 'metal' 'metalcore' 'mexican' 'middle' 'minimal'\n",
      " 'miscellaneous' 'modern' 'mood' 'mpb' 'muslim' 'native' 'neoklassik'\n",
      " 'neue' 'new' 'newage' 'newwave' 'nu' 'nujazz' 'numetal' 'oceania' 'old'\n",
      " 'opera' 'orchestral' 'other' 'piano' 'pop' 'popelectronic' 'popeurodance'\n",
      " 'post' 'posthardcore' 'postrock' 'power' 'progmetal' 'progressive'\n",
      " 'psychedelic' 'punjabi' 'punk' 'quebecois' 'ragga' 'ram' 'rancheras'\n",
      " 'rap' 'rave' 'reggae' 'reggaeton' 'regional' 'relax' 'religious' 'retro'\n",
      " 'rhythm' 'rnb' 'rnr' 'rock' 'rockabilly' 'romance' 'roots' 'ruspop'\n",
      " 'rusrap' 'rusrock' 'salsa' 'samba' 'schlager' 'self' 'sertanejo'\n",
      " 'shoegazing' 'showtunes' 'singer' 'ska' 'slow' 'smooth' 'soul' 'soulful'\n",
      " 'sound' 'soundtrack' 'southern' 'specialty' 'speech' 'spiritual' 'sport'\n",
      " 'stonerrock' 'surf' 'swing' 'synthpop' 'sängerportrait' 'tango'\n",
      " 'tanzorchester' 'taraftar' 'tech' 'techno' 'thrash' 'top' 'traditional'\n",
      " 'tradjazz' 'trance' 'tribal' 'trip' 'triphop' 'tropical' 'türk' 'türkçe'\n",
      " 'unknown' 'urban' 'uzbek' 'variété' 'vi' 'videogame' 'vocal' 'western'\n",
      " 'world' 'worldbeat' 'ïîï']\n"
     ]
    }
   ],
   "source": [
    "# Comprobación de duplicados implícitos\n",
    "genero = df.loc[: , 'genre'].sort_values().unique()\n",
    "#print(df.loc[:, 'genre'].sort_values().unique())\n",
    "print(genero)"
   ]
  },
  {
   "cell_type": "markdown",
   "metadata": {
    "id": "ALgNbvF3VtPA"
   },
   "source": [
    "[Volver a Contenidos](#back)"
   ]
  },
  {
   "cell_type": "markdown",
   "metadata": {
    "id": "jz6a9-7HQUDd"
   },
   "source": [
    "### Tus observaciones <a id='data_preprocessing_conclusions'></a>\n",
    "\n",
    "`Describe brevemente lo que has notado al analizar duplicados, cómo abordaste sus eliminaciones y qué resultados obtuviste.`\n",
    "\n",
    "-Existian 3826 duplicados considerado explícitos, estos se elminaron y por buena práctica al hacerlo tambien se reseteo los index para no tener inconsistencias y tener ordenado el dataframe.\n",
    "\n",
    "-El paso a seguir fue de verificar si habian duplicados implícitos mostrando una lista de los generos unicos en el dataframe y se prosiguio a estandarizar estos datos ya que en el caso del género hiphop tenia otras maneras de escribirce por lo cual se reemplazaron las otras formas y se dejo un estandar de nombre para no proveer infomación erronea al momento de realizar el análisis"
   ]
  },
  {
   "cell_type": "markdown",
   "metadata": {
    "id": "eK1es74rVujj"
   },
   "source": [
    "[Volver a Contenidos](#back)"
   ]
  },
  {
   "cell_type": "markdown",
   "metadata": {
    "id": "WttZHXH0SqKk"
   },
   "source": [
    "## Etapa 3. Prueba de hipótesis <a id='hypothesis'></a>"
   ]
  },
  {
   "cell_type": "markdown",
   "metadata": {
    "id": "Im936VVi_Zcu"
   },
   "source": [
    "### Hipótesis: comparar el comportamiento del usuario o la usuaria en las dos ciudades <a id='activity'></a>"
   ]
  },
  {
   "cell_type": "markdown",
   "metadata": {
    "id": "nwt_MuaL_Zcu"
   },
   "source": [
    "La hipótesis afirma que existen diferencias en la forma en que los usuarios y las usuarias de Springfield y Shelbyville consumen música. Para comprobar esto, usa los datos de tres días de la semana: lunes, miércoles y viernes.\n",
    "\n",
    "* Agrupa a los usuarios y las usuarias por ciudad.\n",
    "* Compara el número de canciones que cada grupo reprodujo el lunes, el miércoles y el viernes.\n"
   ]
  },
  {
   "cell_type": "markdown",
   "metadata": {
    "id": "8Dw_YMmT_Zcu"
   },
   "source": [
    "Realiza cada cálculo por separado.\n",
    "\n",
    "El primer paso es evaluar la actividad del usuario en cada ciudad. Recuerda las etapas dividir-aplicar-combinar de las que hablamos anteriormente en la lección. Tu objetivo ahora es agrupar los datos por ciudad, aplicar el método apropiado para contar durante la etapa de aplicación y luego encontrar la cantidad de canciones reproducidas en cada grupo especificando la columna para obtener el recuento.\n",
    "\n",
    "A continuación se muestra un ejemplo de cómo debería verse el resultado final:\n",
    "`df.groupby(by='....')['column'].method()`Realiza cada cálculo por separado.\n",
    "\n",
    "Para evaluar la actividad de los usuarios y las usuarias en cada ciudad, agrupa los datos por ciudad y encuentra la cantidad de canciones reproducidas en cada grupo.\n",
    "\n"
   ]
  },
  {
   "cell_type": "code",
   "execution_count": 66,
   "metadata": {
    "id": "0_Qs96oh_Zcu"
   },
   "outputs": [
    {
     "name": "stdout",
     "output_type": "stream",
     "text": [
      "city\n",
      "Shelbyville    18512\n",
      "Springfield    42741\n",
      "Name: track, dtype: int64\n"
     ]
    }
   ],
   "source": [
    "# Contar las canciones reproducidas en cada ciudad\n",
    "print(df.groupby(by='city')['track'].count())"
   ]
  },
  {
   "cell_type": "markdown",
   "metadata": {
    "id": "t_Qx-3NewAnK"
   },
   "source": [
    "`Comenta tus observaciones aquí`\n",
    "\n",
    "En Sprinfield hay una mayor cantidad de reproducciones con 42741 y en Shelbyville hay 18512 "
   ]
  },
  {
   "cell_type": "markdown",
   "metadata": {
    "id": "dzli3w8o_Zcu"
   },
   "source": [
    "Ahora agrupemos los datos por día de la semana y encontremos el número de canciones reproducidas el lunes, miércoles y viernes. Utiliza el mismo método que antes, pero ahora necesitamos una agrupación diferente.\n"
   ]
  },
  {
   "cell_type": "code",
   "execution_count": 38,
   "metadata": {
    "id": "uZMKjiJz_Zcu"
   },
   "outputs": [
    {
     "name": "stdout",
     "output_type": "stream",
     "text": [
      "day\n",
      "Friday       21840\n",
      "Monday       21354\n",
      "Wednesday    18059\n",
      "Name: track, dtype: int64\n"
     ]
    }
   ],
   "source": [
    "# Calcular las canciones reproducidas en cada uno de los tres días\n",
    "print(df.groupby(by='day')['track'].count())"
   ]
  },
  {
   "cell_type": "markdown",
   "metadata": {
    "id": "cC2tNrlL_Zcu"
   },
   "source": [
    "`Comenta tus observaciones aquí`\n",
    "\n",
    "Los días Viernes tiene la mayor cantidad de reproducciones con 21840, le sigue el Lunes con 21354 y finalmente el Miercoles con 18059"
   ]
  },
  {
   "cell_type": "markdown",
   "metadata": {
    "id": "POzs8bGa_Zcu"
   },
   "source": [
    "Ya sabes cómo contar entradas agrupándolas por ciudad o día. Ahora necesitas escribir una función que pueda contar entradas según ambos criterios simultáneamente.\n",
    "\n",
    "Crea la función `number_tracks()` para calcular el número de canciones reproducidas en un determinado día **y** ciudad. La función debe aceptar dos parámetros:\n",
    "\n",
    "- `day`: un día de la semana para filtrar. Por ejemplo, `'Monday'` (lunes).\n",
    "- `city`: una ciudad para filtrar. Por ejemplo, `'Springfield'`.\n",
    "\n",
    "Dentro de la función, aplicarás un filtrado consecutivo con indexación lógica.\n",
    "\n",
    "Primero filtra los datos por día y luego filtra la tabla resultante por ciudad.\n",
    "\n",
    "Después de filtrar los datos por dos criterios, cuenta el número de valores de la columna 'user_id' en la tabla resultante. Este recuento representa el número de entradas que estás buscando. Guarda el resultado en una nueva variable y devuélvelo desde la función."
   ]
  },
  {
   "cell_type": "code",
   "execution_count": 56,
   "metadata": {
    "id": "Nz3GdQB1_Zcu"
   },
   "outputs": [],
   "source": [
    "# Declara la función number_tracks() con dos parámetros: day= y city=.\n",
    "\n",
    "    # Almacena las filas del DataFrame donde el valor en la columna 'day' es igual al parámetro day=\n",
    "\n",
    "    # Filtra las filas donde el valor en la columna 'city' es igual al parámetro city=\n",
    "\n",
    "    # Extrae la columna 'user_id' de la tabla filtrada y aplica el método count()\n",
    "\n",
    "    # Devolve el número de valores de la columna 'user_id'\n",
    "    \n",
    "def number_tracks(df, day, city):    \n",
    "    filter_day =df.loc[df.loc[:,'day']==day]\n",
    "    filter_city = filter_day.loc[filter_day.loc[:,'city']==city]\n",
    "    user_id_count = filter_city.loc[:,'user_id'].count()\n",
    "    return user_id_count"
   ]
  },
  {
   "cell_type": "markdown",
   "metadata": {
    "id": "ytf7xFrFJQ2r"
   },
   "source": [
    "Llama a `number_tracks()` seis veces, cambiando los valores de los parámetros para que recuperes los datos de ambas ciudades para cada uno de los tres días."
   ]
  },
  {
   "cell_type": "code",
   "execution_count": 57,
   "metadata": {
    "id": "rJcRATNQ_Zcu"
   },
   "outputs": [
    {
     "name": "stdout",
     "output_type": "stream",
     "text": [
      "15740\n"
     ]
    }
   ],
   "source": [
    "# El número de canciones reproducidas en Springfield el lunes\n",
    "print(number_tracks(df, 'Monday','Springfield'))"
   ]
  },
  {
   "cell_type": "code",
   "execution_count": 58,
   "metadata": {
    "id": "hq_ncZ5T_Zcu"
   },
   "outputs": [
    {
     "name": "stdout",
     "output_type": "stream",
     "text": [
      "5614\n"
     ]
    }
   ],
   "source": [
    "# El número de canciones reproducidas en Shelbyville el lunes\n",
    "print(number_tracks(df, 'Monday','Shelbyville'))"
   ]
  },
  {
   "cell_type": "code",
   "execution_count": 59,
   "metadata": {
    "id": "_NTy2VPU_Zcu"
   },
   "outputs": [
    {
     "name": "stdout",
     "output_type": "stream",
     "text": [
      "11056\n"
     ]
    }
   ],
   "source": [
    "# El número de canciones reproducidas en Springfield el miércoles\n",
    "print(number_tracks(df, 'Wednesday','Springfield'))"
   ]
  },
  {
   "cell_type": "code",
   "execution_count": 60,
   "metadata": {
    "id": "j2y3TAwo_Zcu"
   },
   "outputs": [
    {
     "name": "stdout",
     "output_type": "stream",
     "text": [
      "7003\n"
     ]
    }
   ],
   "source": [
    "# El número de canciones reproducidas en Shelbyville el miércoles\n",
    "print(number_tracks(df, 'Wednesday','Shelbyville'))"
   ]
  },
  {
   "cell_type": "code",
   "execution_count": 61,
   "metadata": {
    "id": "vYDw5u_K_Zcu"
   },
   "outputs": [
    {
     "name": "stdout",
     "output_type": "stream",
     "text": [
      "15945\n"
     ]
    }
   ],
   "source": [
    "# El número de canciones reproducidas en Springfield el viernes\n",
    "print(number_tracks(df, 'Friday','Springfield'))"
   ]
  },
  {
   "cell_type": "code",
   "execution_count": 62,
   "metadata": {
    "id": "8_yzFtW3_Zcu"
   },
   "outputs": [
    {
     "name": "stdout",
     "output_type": "stream",
     "text": [
      "5895\n"
     ]
    }
   ],
   "source": [
    "# El número de canciones reproducidas en Shelbyville el viernes\n",
    "print(number_tracks(df, 'Friday','Shelbyville'))"
   ]
  },
  {
   "cell_type": "markdown",
   "metadata": {
    "id": "-EgPIHYu_Zcu"
   },
   "source": [
    "**Conclusiones**\n",
    "\n",
    "`Comenta si la hipótesis es correcta o se debe rechazar. Explica tu razonamiento.`\n",
    "\n",
    "La hipótesis se acepta, ya que como se puede ver Springfield es la ciudad que tiene mas canciones reproducidas y estas varian segun el día, en Springfield el día Viernes es el día con mas reproducciones y para Shelbyville es el día Miercoles"
   ]
  },
  {
   "cell_type": "markdown",
   "metadata": {
    "id": "p7nFQajCVw5B"
   },
   "source": [
    "[Volver a Contenidos](#back)"
   ]
  },
  {
   "cell_type": "markdown",
   "metadata": {
    "id": "ykKQ0N65_Zcv"
   },
   "source": [
    "# Conclusiones <a id='end'></a>"
   ]
  },
  {
   "cell_type": "markdown",
   "metadata": {
    "id": "tjUwbHb3_Zcv"
   },
   "source": [
    "`Resume aquí tus conclusiones sobre la hipótesis.`\n",
    "\n",
    "-La actividad de los usuarios si difiere del día y la ciudad.\n",
    "\n",
    "-Springfield tiene mas reproducciones que Shelbyville.\n",
    "\n",
    "-El día Viernes es el día con mas reproducciones en Springfield y el día Miercoles para Shelbyville.\n",
    "\n",
    "-Habia un total de 65.079 observaciones lo cual se redujo a 61.253 eleminando datos ausentes y duplicados.\n",
    "\n",
    "-Hay que tener en concideración que el análisis solo se hizo utilizando 3 días de la semana por lo cual en un análisis posterior utilizando todos los días los resultados para cada ciudad podrian variar.\n"
   ]
  },
  {
   "cell_type": "markdown",
   "metadata": {
    "id": "azLHu64yOIp7"
   },
   "source": [
    "### Nota\n",
    "En proyectos de investigación reales, la prueba de hipótesis estadística es más precisa y cuantitativa. También ten en cuenta que no siempre se pueden sacar conclusiones sobre una ciudad entera a partir de datos de una sola fuente.\n",
    "\n",
    "Aprenderás más sobre la prueba de hipótesis en el sprint de análisis estadístico de datos."
   ]
  },
  {
   "cell_type": "markdown",
   "metadata": {
    "id": "Ju4AHDSgV1FE"
   },
   "source": [
    "[Volver a Contenidos](#back)"
   ]
  }
 ],
 "metadata": {
  "ExecuteTimeLog": [
   {
    "duration": 306,
    "start_time": "2024-05-20T19:21:18.371Z"
   },
   {
    "duration": 458,
    "start_time": "2024-05-20T19:21:23.035Z"
   },
   {
    "duration": 186,
    "start_time": "2024-05-20T19:21:25.300Z"
   },
   {
    "duration": 12,
    "start_time": "2024-05-20T19:21:29.218Z"
   },
   {
    "duration": 32,
    "start_time": "2024-05-20T19:23:28.276Z"
   },
   {
    "duration": 40,
    "start_time": "2024-05-20T19:30:51.910Z"
   },
   {
    "duration": 9,
    "start_time": "2024-05-20T19:41:25.856Z"
   },
   {
    "duration": 9,
    "start_time": "2024-05-20T19:41:40.760Z"
   },
   {
    "duration": 10,
    "start_time": "2024-05-20T19:42:06.651Z"
   },
   {
    "duration": 9,
    "start_time": "2024-05-20T19:42:34.150Z"
   },
   {
    "duration": 6,
    "start_time": "2024-05-20T19:48:08.215Z"
   },
   {
    "duration": 4,
    "start_time": "2024-05-20T19:54:38.025Z"
   },
   {
    "duration": 4,
    "start_time": "2024-05-20T19:56:00.416Z"
   },
   {
    "duration": 4,
    "start_time": "2024-05-20T19:57:54.814Z"
   },
   {
    "duration": 7,
    "start_time": "2024-05-20T19:58:33.913Z"
   },
   {
    "duration": 4,
    "start_time": "2024-05-20T19:59:59.635Z"
   },
   {
    "duration": 6,
    "start_time": "2024-05-20T20:00:08.936Z"
   },
   {
    "duration": 5,
    "start_time": "2024-05-20T20:00:20.724Z"
   },
   {
    "duration": 4,
    "start_time": "2024-05-20T20:01:15.573Z"
   },
   {
    "duration": 57,
    "start_time": "2024-05-20T20:07:56.715Z"
   },
   {
    "duration": 6,
    "start_time": "2024-05-20T20:08:08.324Z"
   },
   {
    "duration": 5,
    "start_time": "2024-05-20T20:09:14.065Z"
   },
   {
    "duration": 306,
    "start_time": "2024-05-20T20:15:49.976Z"
   },
   {
    "duration": 23,
    "start_time": "2024-05-20T20:16:13.627Z"
   },
   {
    "duration": 470,
    "start_time": "2024-05-20T20:16:38.240Z"
   },
   {
    "duration": 187,
    "start_time": "2024-05-20T20:16:41.250Z"
   },
   {
    "duration": 3,
    "start_time": "2024-05-20T20:16:57.148Z"
   },
   {
    "duration": 3,
    "start_time": "2024-05-20T20:17:22.438Z"
   },
   {
    "duration": 480,
    "start_time": "2024-05-20T20:17:40.934Z"
   },
   {
    "duration": 157,
    "start_time": "2024-05-20T20:18:02.742Z"
   },
   {
    "duration": 10,
    "start_time": "2024-05-20T20:18:04.895Z"
   },
   {
    "duration": 42,
    "start_time": "2024-05-20T20:18:09.637Z"
   },
   {
    "duration": 7,
    "start_time": "2024-05-20T20:18:14.342Z"
   },
   {
    "duration": 5,
    "start_time": "2024-05-20T20:18:18.614Z"
   },
   {
    "duration": 4,
    "start_time": "2024-05-20T20:18:21.566Z"
   },
   {
    "duration": 372,
    "start_time": "2024-05-20T20:19:34.532Z"
   },
   {
    "duration": 5,
    "start_time": "2024-05-20T20:19:57.075Z"
   },
   {
    "duration": 4,
    "start_time": "2024-05-20T20:20:06.975Z"
   },
   {
    "duration": 5,
    "start_time": "2024-05-20T20:24:24.064Z"
   },
   {
    "duration": 5,
    "start_time": "2024-05-20T20:24:39.063Z"
   },
   {
    "duration": 5,
    "start_time": "2024-05-20T20:24:56.683Z"
   },
   {
    "duration": 4,
    "start_time": "2024-05-20T20:25:09.858Z"
   },
   {
    "duration": 5,
    "start_time": "2024-05-20T20:25:14.968Z"
   },
   {
    "duration": 4,
    "start_time": "2024-05-20T20:25:17.384Z"
   },
   {
    "duration": 450,
    "start_time": "2024-05-20T20:34:37.301Z"
   },
   {
    "duration": 193,
    "start_time": "2024-05-20T20:34:39.890Z"
   },
   {
    "duration": 11,
    "start_time": "2024-05-20T20:34:41.905Z"
   },
   {
    "duration": 41,
    "start_time": "2024-05-20T20:34:45.205Z"
   },
   {
    "duration": 6,
    "start_time": "2024-05-20T20:34:49.605Z"
   },
   {
    "duration": 5,
    "start_time": "2024-05-20T20:34:51.175Z"
   },
   {
    "duration": 5,
    "start_time": "2024-05-20T20:35:36.346Z"
   },
   {
    "duration": 5,
    "start_time": "2024-05-20T20:36:39.172Z"
   },
   {
    "duration": 5,
    "start_time": "2024-05-20T20:36:45.551Z"
   },
   {
    "duration": 5,
    "start_time": "2024-05-20T20:36:56.460Z"
   },
   {
    "duration": 353,
    "start_time": "2024-05-20T20:40:59.845Z"
   },
   {
    "duration": 16,
    "start_time": "2024-05-20T20:44:10.863Z"
   },
   {
    "duration": 14,
    "start_time": "2024-05-20T20:44:18.769Z"
   },
   {
    "duration": 5,
    "start_time": "2024-05-20T20:48:57.330Z"
   },
   {
    "duration": 5,
    "start_time": "2024-05-20T20:49:21.522Z"
   },
   {
    "duration": 5,
    "start_time": "2024-05-20T20:49:46.422Z"
   },
   {
    "duration": 4,
    "start_time": "2024-05-20T20:51:18.501Z"
   },
   {
    "duration": 6,
    "start_time": "2024-05-20T20:51:34.364Z"
   },
   {
    "duration": 15,
    "start_time": "2024-05-20T20:51:45.283Z"
   },
   {
    "duration": 4,
    "start_time": "2024-05-20T20:52:06.194Z"
   },
   {
    "duration": 32,
    "start_time": "2024-05-20T20:52:47.408Z"
   },
   {
    "duration": 28,
    "start_time": "2024-05-20T20:54:11.324Z"
   },
   {
    "duration": 32,
    "start_time": "2024-05-20T20:54:24.111Z"
   },
   {
    "duration": 26,
    "start_time": "2024-05-20T20:57:57.668Z"
   },
   {
    "duration": 20,
    "start_time": "2024-05-20T21:02:22.823Z"
   },
   {
    "duration": 25,
    "start_time": "2024-05-20T21:02:32.646Z"
   },
   {
    "duration": 28,
    "start_time": "2024-05-20T21:03:24.197Z"
   },
   {
    "duration": 19,
    "start_time": "2024-05-20T21:03:47.544Z"
   },
   {
    "duration": 17,
    "start_time": "2024-05-20T21:04:24.628Z"
   },
   {
    "duration": 72,
    "start_time": "2024-05-20T21:04:31.675Z"
   },
   {
    "duration": 89,
    "start_time": "2024-05-20T21:05:14.915Z"
   },
   {
    "duration": 72,
    "start_time": "2024-05-20T21:05:26.631Z"
   },
   {
    "duration": 101,
    "start_time": "2024-05-20T21:05:46.125Z"
   },
   {
    "duration": 71,
    "start_time": "2024-05-20T21:05:51.358Z"
   },
   {
    "duration": 1120,
    "start_time": "2024-05-20T21:07:07.005Z"
   },
   {
    "duration": 155,
    "start_time": "2024-05-20T21:08:04.320Z"
   },
   {
    "duration": 180,
    "start_time": "2024-05-20T21:08:23.129Z"
   },
   {
    "duration": 6,
    "start_time": "2024-05-20T21:09:26.289Z"
   },
   {
    "duration": 9,
    "start_time": "2024-05-20T21:10:18.295Z"
   },
   {
    "duration": 11,
    "start_time": "2024-05-20T21:10:35.441Z"
   },
   {
    "duration": 7,
    "start_time": "2024-05-20T21:11:00.410Z"
   },
   {
    "duration": 47,
    "start_time": "2024-05-20T21:11:20.508Z"
   },
   {
    "duration": 51,
    "start_time": "2024-05-20T21:11:30.980Z"
   },
   {
    "duration": 95,
    "start_time": "2024-05-20T21:19:36.352Z"
   },
   {
    "duration": 86,
    "start_time": "2024-05-20T21:19:48.319Z"
   },
   {
    "duration": 80,
    "start_time": "2024-05-20T21:19:50.951Z"
   },
   {
    "duration": 53,
    "start_time": "2024-05-20T21:19:54.291Z"
   },
   {
    "duration": 79,
    "start_time": "2024-05-20T21:20:35.481Z"
   },
   {
    "duration": 5,
    "start_time": "2024-05-20T21:29:18.132Z"
   },
   {
    "duration": 12,
    "start_time": "2024-05-20T21:29:21.699Z"
   },
   {
    "duration": 11,
    "start_time": "2024-05-20T21:30:06.248Z"
   },
   {
    "duration": 51,
    "start_time": "2024-05-20T21:30:25.710Z"
   },
   {
    "duration": 10,
    "start_time": "2024-05-20T21:30:45.855Z"
   },
   {
    "duration": 320,
    "start_time": "2024-05-22T14:34:16.907Z"
   },
   {
    "duration": 461,
    "start_time": "2024-05-22T14:34:25.330Z"
   },
   {
    "duration": 194,
    "start_time": "2024-05-22T14:34:27.988Z"
   },
   {
    "duration": 11,
    "start_time": "2024-05-22T14:34:30.425Z"
   },
   {
    "duration": 37,
    "start_time": "2024-05-22T14:34:33.425Z"
   },
   {
    "duration": 8,
    "start_time": "2024-05-22T14:34:39.002Z"
   },
   {
    "duration": 4,
    "start_time": "2024-05-22T14:34:50.691Z"
   },
   {
    "duration": 5,
    "start_time": "2024-05-22T14:34:57.647Z"
   },
   {
    "duration": 5,
    "start_time": "2024-05-22T14:35:05.866Z"
   },
   {
    "duration": 5,
    "start_time": "2024-05-22T14:35:47.896Z"
   },
   {
    "duration": 12,
    "start_time": "2024-05-22T14:36:18.503Z"
   },
   {
    "duration": 5,
    "start_time": "2024-05-22T14:36:29.663Z"
   },
   {
    "duration": 26,
    "start_time": "2024-05-22T14:36:32.972Z"
   },
   {
    "duration": 17,
    "start_time": "2024-05-22T14:36:58.459Z"
   },
   {
    "duration": 26,
    "start_time": "2024-05-22T14:37:01.109Z"
   },
   {
    "duration": 73,
    "start_time": "2024-05-22T14:37:10.610Z"
   },
   {
    "duration": 85,
    "start_time": "2024-05-22T14:37:14.964Z"
   },
   {
    "duration": 68,
    "start_time": "2024-05-22T14:37:18.682Z"
   },
   {
    "duration": 52,
    "start_time": "2024-05-22T14:37:23.643Z"
   },
   {
    "duration": 6,
    "start_time": "2024-05-22T14:37:46.745Z"
   },
   {
    "duration": 73,
    "start_time": "2024-05-22T14:37:49.231Z"
   },
   {
    "duration": 12,
    "start_time": "2024-05-22T14:38:24.402Z"
   },
   {
    "duration": 19,
    "start_time": "2024-05-22T14:38:31.681Z"
   },
   {
    "duration": 4,
    "start_time": "2024-05-22T14:38:44.206Z"
   },
   {
    "duration": 14,
    "start_time": "2024-05-22T14:39:37.026Z"
   },
   {
    "duration": 10,
    "start_time": "2024-05-22T14:39:40.617Z"
   },
   {
    "duration": 51,
    "start_time": "2024-05-22T14:41:05.752Z"
   },
   {
    "duration": 62,
    "start_time": "2024-05-22T14:41:31.748Z"
   },
   {
    "duration": 5,
    "start_time": "2024-05-22T14:41:52.136Z"
   },
   {
    "duration": 11,
    "start_time": "2024-05-22T14:41:54.392Z"
   },
   {
    "duration": 9,
    "start_time": "2024-05-22T14:41:56.501Z"
   },
   {
    "duration": 23,
    "start_time": "2024-05-22T14:43:24.980Z"
   },
   {
    "duration": 56,
    "start_time": "2024-05-22T14:43:32.204Z"
   },
   {
    "duration": 72,
    "start_time": "2024-05-22T14:43:46.444Z"
   },
   {
    "duration": 59,
    "start_time": "2024-05-22T14:43:48.943Z"
   },
   {
    "duration": 5,
    "start_time": "2024-05-22T14:43:58.966Z"
   },
   {
    "duration": 16,
    "start_time": "2024-05-22T14:44:00.800Z"
   },
   {
    "duration": 443,
    "start_time": "2024-05-22T14:44:47.377Z"
   },
   {
    "duration": 4,
    "start_time": "2024-05-22T14:45:10.787Z"
   },
   {
    "duration": 5,
    "start_time": "2024-05-22T14:45:12.682Z"
   },
   {
    "duration": 472,
    "start_time": "2024-05-22T14:45:20.110Z"
   },
   {
    "duration": 182,
    "start_time": "2024-05-22T14:45:22.516Z"
   },
   {
    "duration": 13,
    "start_time": "2024-05-22T14:45:24.593Z"
   },
   {
    "duration": 57,
    "start_time": "2024-05-22T14:45:27.792Z"
   },
   {
    "duration": 5,
    "start_time": "2024-05-22T14:45:32.229Z"
   },
   {
    "duration": 5,
    "start_time": "2024-05-22T14:45:39.762Z"
   },
   {
    "duration": 6,
    "start_time": "2024-05-22T14:45:42.314Z"
   },
   {
    "duration": 15,
    "start_time": "2024-05-22T14:45:45.197Z"
   },
   {
    "duration": 6,
    "start_time": "2024-05-22T14:45:47.641Z"
   },
   {
    "duration": 28,
    "start_time": "2024-05-22T14:45:51.169Z"
   },
   {
    "duration": 20,
    "start_time": "2024-05-22T14:45:54.284Z"
   },
   {
    "duration": 27,
    "start_time": "2024-05-22T14:45:57.229Z"
   },
   {
    "duration": 77,
    "start_time": "2024-05-22T14:46:21.525Z"
   },
   {
    "duration": 87,
    "start_time": "2024-05-22T14:46:23.757Z"
   },
   {
    "duration": 101,
    "start_time": "2024-05-22T14:46:26.418Z"
   },
   {
    "duration": 77,
    "start_time": "2024-05-22T14:46:29.690Z"
   },
   {
    "duration": 4,
    "start_time": "2024-05-22T14:46:39.249Z"
   },
   {
    "duration": 16,
    "start_time": "2024-05-22T14:46:42.218Z"
   },
   {
    "duration": 9,
    "start_time": "2024-05-22T14:46:44.942Z"
   },
   {
    "duration": 7,
    "start_time": "2024-05-22T14:47:59.844Z"
   },
   {
    "duration": 9,
    "start_time": "2024-05-22T14:48:17.747Z"
   },
   {
    "duration": 4,
    "start_time": "2024-05-22T14:50:02.354Z"
   },
   {
    "duration": 14,
    "start_time": "2024-05-22T14:50:05.513Z"
   },
   {
    "duration": 9,
    "start_time": "2024-05-22T14:50:14.437Z"
   },
   {
    "duration": 11,
    "start_time": "2024-05-22T14:50:32.805Z"
   },
   {
    "duration": 4,
    "start_time": "2024-05-22T14:51:50.520Z"
   },
   {
    "duration": 13,
    "start_time": "2024-05-22T14:51:52.723Z"
   },
   {
    "duration": 9,
    "start_time": "2024-05-22T14:51:55.068Z"
   },
   {
    "duration": 5,
    "start_time": "2024-05-22T14:53:02.550Z"
   },
   {
    "duration": 50,
    "start_time": "2024-05-22T14:55:12.320Z"
   },
   {
    "duration": 53,
    "start_time": "2024-05-22T14:55:31.506Z"
   },
   {
    "duration": 4,
    "start_time": "2024-05-22T14:56:54.352Z"
   },
   {
    "duration": 12,
    "start_time": "2024-05-22T14:56:58.998Z"
   },
   {
    "duration": 9,
    "start_time": "2024-05-22T14:57:05.952Z"
   },
   {
    "duration": 7,
    "start_time": "2024-05-22T14:58:22.026Z"
   },
   {
    "duration": 52,
    "start_time": "2024-05-22T14:58:30.116Z"
   },
   {
    "duration": 14,
    "start_time": "2024-05-22T15:17:23.515Z"
   },
   {
    "duration": 18,
    "start_time": "2024-05-22T15:20:15.945Z"
   },
   {
    "duration": 7,
    "start_time": "2024-05-22T15:40:08.556Z"
   },
   {
    "duration": 9,
    "start_time": "2024-05-22T15:40:50.713Z"
   },
   {
    "duration": 7,
    "start_time": "2024-05-22T15:41:24.472Z"
   },
   {
    "duration": 6,
    "start_time": "2024-05-22T15:41:32.801Z"
   },
   {
    "duration": 5,
    "start_time": "2024-05-22T15:41:56.272Z"
   },
   {
    "duration": 360,
    "start_time": "2024-05-22T15:42:47.085Z"
   },
   {
    "duration": 819,
    "start_time": "2024-05-22T15:42:58.316Z"
   },
   {
    "duration": 6,
    "start_time": "2024-05-22T15:44:00.591Z"
   },
   {
    "duration": 21,
    "start_time": "2024-05-22T15:44:03.535Z"
   },
   {
    "duration": 5,
    "start_time": "2024-05-22T15:45:28.262Z"
   },
   {
    "duration": 89,
    "start_time": "2024-05-22T15:45:30.421Z"
   },
   {
    "duration": 5,
    "start_time": "2024-05-22T15:45:42.264Z"
   },
   {
    "duration": 22,
    "start_time": "2024-05-22T15:45:44.005Z"
   },
   {
    "duration": 5,
    "start_time": "2024-05-22T15:45:55.080Z"
   },
   {
    "duration": 21,
    "start_time": "2024-05-22T15:45:57.630Z"
   },
   {
    "duration": 5,
    "start_time": "2024-05-22T15:46:24.063Z"
   },
   {
    "duration": 512,
    "start_time": "2024-05-22T15:46:26.362Z"
   },
   {
    "duration": 6,
    "start_time": "2024-05-22T15:46:40.481Z"
   },
   {
    "duration": 23,
    "start_time": "2024-05-22T15:46:42.328Z"
   },
   {
    "duration": 19,
    "start_time": "2024-05-22T15:47:00.746Z"
   },
   {
    "duration": 18,
    "start_time": "2024-05-22T15:48:51.486Z"
   },
   {
    "duration": 23,
    "start_time": "2024-05-22T15:49:06.919Z"
   },
   {
    "duration": 29,
    "start_time": "2024-05-22T15:49:19.333Z"
   },
   {
    "duration": 19,
    "start_time": "2024-05-22T15:49:30.642Z"
   },
   {
    "duration": 31,
    "start_time": "2024-05-22T15:58:58.616Z"
   },
   {
    "duration": 16,
    "start_time": "2024-05-22T15:59:06.702Z"
   },
   {
    "duration": 16,
    "start_time": "2024-05-22T16:12:09.364Z"
   },
   {
    "duration": 14,
    "start_time": "2024-05-22T16:12:50.054Z"
   },
   {
    "duration": 7,
    "start_time": "2024-05-22T17:41:32.820Z"
   },
   {
    "duration": 12,
    "start_time": "2024-05-22T17:41:41.822Z"
   },
   {
    "duration": 72,
    "start_time": "2024-05-22T17:42:03.745Z"
   },
   {
    "duration": 60,
    "start_time": "2024-05-22T17:45:47.537Z"
   },
   {
    "duration": 33,
    "start_time": "2024-05-22T17:48:44.681Z"
   },
   {
    "duration": 31,
    "start_time": "2024-05-22T17:48:56.366Z"
   },
   {
    "duration": 15,
    "start_time": "2024-05-22T21:28:52.314Z"
   },
   {
    "duration": 5,
    "start_time": "2024-05-22T21:29:48.779Z"
   },
   {
    "duration": 9,
    "start_time": "2024-05-22T21:35:42.975Z"
   },
   {
    "duration": 7,
    "start_time": "2024-05-22T21:35:53.676Z"
   }
  ],
  "colab": {
   "collapsed_sections": [
    "E0vqbgi9ay0H",
    "VUC88oWjTJw2"
   ],
   "provenance": []
  },
  "kernelspec": {
   "display_name": "Python 3 (ipykernel)",
   "language": "python",
   "name": "python3"
  },
  "language_info": {
   "codemirror_mode": {
    "name": "ipython",
    "version": 3
   },
   "file_extension": ".py",
   "mimetype": "text/x-python",
   "name": "python",
   "nbconvert_exporter": "python",
   "pygments_lexer": "ipython3",
   "version": "3.9.19"
  },
  "toc": {
   "base_numbering": 1,
   "nav_menu": {
    "height": "12px",
    "width": "160px"
   },
   "number_sections": true,
   "sideBar": true,
   "skip_h1_title": true,
   "title_cell": "Table of Contents",
   "title_sidebar": "Contents",
   "toc_cell": false,
   "toc_position": {},
   "toc_section_display": true,
   "toc_window_display": true
  }
 },
 "nbformat": 4,
 "nbformat_minor": 1
}
